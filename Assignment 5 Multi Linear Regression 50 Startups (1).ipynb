{
 "cells": [
  {
   "cell_type": "markdown",
   "id": "ed59a99e",
   "metadata": {},
   "source": [
    "Prepare a prediction model for profit of 50_startups data.\n",
    "Do transformations for getting better predictions of profit\n",
    "and\n",
    "make a table containing R^2 value for each prepared model.\n",
    "\n",
    "R&D Spend -- Research and devolop spend in the past few years\n",
    "Administration -- spend on administration in the past few years\n",
    "Marketing Spend -- spend on Marketing in the past few years\n",
    "State -- states from which data is collected\n",
    "Profit  -- profit of each state in the past few years\n",
    "\n",
    "\n"
   ]
  },
  {
   "cell_type": "code",
   "execution_count": 1,
   "id": "c6ae5780",
   "metadata": {},
   "outputs": [],
   "source": [
    "#Importing python Libraries\n",
    "import pandas as pd\n",
    "import numpy as np\n",
    "import matplotlib.pyplot as plt\n",
    "import seaborn as sns\n",
    "import statsmodels.api as sm\n",
    "import statsmodels.formula.api as smf\n",
    "from statsmodels.graphics.regressionplots import influence_plot\n"
   ]
  },
  {
   "cell_type": "code",
   "execution_count": 2,
   "id": "87c0912a",
   "metadata": {},
   "outputs": [
    {
     "data": {
      "text/html": [
       "<div>\n",
       "<style scoped>\n",
       "    .dataframe tbody tr th:only-of-type {\n",
       "        vertical-align: middle;\n",
       "    }\n",
       "\n",
       "    .dataframe tbody tr th {\n",
       "        vertical-align: top;\n",
       "    }\n",
       "\n",
       "    .dataframe thead th {\n",
       "        text-align: right;\n",
       "    }\n",
       "</style>\n",
       "<table border=\"1\" class=\"dataframe\">\n",
       "  <thead>\n",
       "    <tr style=\"text-align: right;\">\n",
       "      <th></th>\n",
       "      <th>R&amp;D Spend</th>\n",
       "      <th>Administration</th>\n",
       "      <th>Marketing Spend</th>\n",
       "      <th>State</th>\n",
       "      <th>Profit</th>\n",
       "    </tr>\n",
       "  </thead>\n",
       "  <tbody>\n",
       "    <tr>\n",
       "      <th>0</th>\n",
       "      <td>165349.20</td>\n",
       "      <td>136897.80</td>\n",
       "      <td>471784.10</td>\n",
       "      <td>New York</td>\n",
       "      <td>192261.83</td>\n",
       "    </tr>\n",
       "    <tr>\n",
       "      <th>1</th>\n",
       "      <td>162597.70</td>\n",
       "      <td>151377.59</td>\n",
       "      <td>443898.53</td>\n",
       "      <td>California</td>\n",
       "      <td>191792.06</td>\n",
       "    </tr>\n",
       "    <tr>\n",
       "      <th>2</th>\n",
       "      <td>153441.51</td>\n",
       "      <td>101145.55</td>\n",
       "      <td>407934.54</td>\n",
       "      <td>Florida</td>\n",
       "      <td>191050.39</td>\n",
       "    </tr>\n",
       "    <tr>\n",
       "      <th>3</th>\n",
       "      <td>144372.41</td>\n",
       "      <td>118671.85</td>\n",
       "      <td>383199.62</td>\n",
       "      <td>New York</td>\n",
       "      <td>182901.99</td>\n",
       "    </tr>\n",
       "    <tr>\n",
       "      <th>4</th>\n",
       "      <td>142107.34</td>\n",
       "      <td>91391.77</td>\n",
       "      <td>366168.42</td>\n",
       "      <td>Florida</td>\n",
       "      <td>166187.94</td>\n",
       "    </tr>\n",
       "    <tr>\n",
       "      <th>5</th>\n",
       "      <td>131876.90</td>\n",
       "      <td>99814.71</td>\n",
       "      <td>362861.36</td>\n",
       "      <td>New York</td>\n",
       "      <td>156991.12</td>\n",
       "    </tr>\n",
       "    <tr>\n",
       "      <th>6</th>\n",
       "      <td>134615.46</td>\n",
       "      <td>147198.87</td>\n",
       "      <td>127716.82</td>\n",
       "      <td>California</td>\n",
       "      <td>156122.51</td>\n",
       "    </tr>\n",
       "    <tr>\n",
       "      <th>7</th>\n",
       "      <td>130298.13</td>\n",
       "      <td>145530.06</td>\n",
       "      <td>323876.68</td>\n",
       "      <td>Florida</td>\n",
       "      <td>155752.60</td>\n",
       "    </tr>\n",
       "    <tr>\n",
       "      <th>8</th>\n",
       "      <td>120542.52</td>\n",
       "      <td>148718.95</td>\n",
       "      <td>311613.29</td>\n",
       "      <td>New York</td>\n",
       "      <td>152211.77</td>\n",
       "    </tr>\n",
       "    <tr>\n",
       "      <th>9</th>\n",
       "      <td>123334.88</td>\n",
       "      <td>108679.17</td>\n",
       "      <td>304981.62</td>\n",
       "      <td>California</td>\n",
       "      <td>149759.96</td>\n",
       "    </tr>\n",
       "    <tr>\n",
       "      <th>10</th>\n",
       "      <td>101913.08</td>\n",
       "      <td>110594.11</td>\n",
       "      <td>229160.95</td>\n",
       "      <td>Florida</td>\n",
       "      <td>146121.95</td>\n",
       "    </tr>\n",
       "    <tr>\n",
       "      <th>11</th>\n",
       "      <td>100671.96</td>\n",
       "      <td>91790.61</td>\n",
       "      <td>249744.55</td>\n",
       "      <td>California</td>\n",
       "      <td>144259.40</td>\n",
       "    </tr>\n",
       "    <tr>\n",
       "      <th>12</th>\n",
       "      <td>93863.75</td>\n",
       "      <td>127320.38</td>\n",
       "      <td>249839.44</td>\n",
       "      <td>Florida</td>\n",
       "      <td>141585.52</td>\n",
       "    </tr>\n",
       "    <tr>\n",
       "      <th>13</th>\n",
       "      <td>91992.39</td>\n",
       "      <td>135495.07</td>\n",
       "      <td>252664.93</td>\n",
       "      <td>California</td>\n",
       "      <td>134307.35</td>\n",
       "    </tr>\n",
       "    <tr>\n",
       "      <th>14</th>\n",
       "      <td>119943.24</td>\n",
       "      <td>156547.42</td>\n",
       "      <td>256512.92</td>\n",
       "      <td>Florida</td>\n",
       "      <td>132602.65</td>\n",
       "    </tr>\n",
       "    <tr>\n",
       "      <th>15</th>\n",
       "      <td>114523.61</td>\n",
       "      <td>122616.84</td>\n",
       "      <td>261776.23</td>\n",
       "      <td>New York</td>\n",
       "      <td>129917.04</td>\n",
       "    </tr>\n",
       "    <tr>\n",
       "      <th>16</th>\n",
       "      <td>78013.11</td>\n",
       "      <td>121597.55</td>\n",
       "      <td>264346.06</td>\n",
       "      <td>California</td>\n",
       "      <td>126992.93</td>\n",
       "    </tr>\n",
       "    <tr>\n",
       "      <th>17</th>\n",
       "      <td>94657.16</td>\n",
       "      <td>145077.58</td>\n",
       "      <td>282574.31</td>\n",
       "      <td>New York</td>\n",
       "      <td>125370.37</td>\n",
       "    </tr>\n",
       "    <tr>\n",
       "      <th>18</th>\n",
       "      <td>91749.16</td>\n",
       "      <td>114175.79</td>\n",
       "      <td>294919.57</td>\n",
       "      <td>Florida</td>\n",
       "      <td>124266.90</td>\n",
       "    </tr>\n",
       "    <tr>\n",
       "      <th>19</th>\n",
       "      <td>86419.70</td>\n",
       "      <td>153514.11</td>\n",
       "      <td>0.00</td>\n",
       "      <td>New York</td>\n",
       "      <td>122776.86</td>\n",
       "    </tr>\n",
       "    <tr>\n",
       "      <th>20</th>\n",
       "      <td>76253.86</td>\n",
       "      <td>113867.30</td>\n",
       "      <td>298664.47</td>\n",
       "      <td>California</td>\n",
       "      <td>118474.03</td>\n",
       "    </tr>\n",
       "    <tr>\n",
       "      <th>21</th>\n",
       "      <td>78389.47</td>\n",
       "      <td>153773.43</td>\n",
       "      <td>299737.29</td>\n",
       "      <td>New York</td>\n",
       "      <td>111313.02</td>\n",
       "    </tr>\n",
       "    <tr>\n",
       "      <th>22</th>\n",
       "      <td>73994.56</td>\n",
       "      <td>122782.75</td>\n",
       "      <td>303319.26</td>\n",
       "      <td>Florida</td>\n",
       "      <td>110352.25</td>\n",
       "    </tr>\n",
       "    <tr>\n",
       "      <th>23</th>\n",
       "      <td>67532.53</td>\n",
       "      <td>105751.03</td>\n",
       "      <td>304768.73</td>\n",
       "      <td>Florida</td>\n",
       "      <td>108733.99</td>\n",
       "    </tr>\n",
       "    <tr>\n",
       "      <th>24</th>\n",
       "      <td>77044.01</td>\n",
       "      <td>99281.34</td>\n",
       "      <td>140574.81</td>\n",
       "      <td>New York</td>\n",
       "      <td>108552.04</td>\n",
       "    </tr>\n",
       "    <tr>\n",
       "      <th>25</th>\n",
       "      <td>64664.71</td>\n",
       "      <td>139553.16</td>\n",
       "      <td>137962.62</td>\n",
       "      <td>California</td>\n",
       "      <td>107404.34</td>\n",
       "    </tr>\n",
       "    <tr>\n",
       "      <th>26</th>\n",
       "      <td>75328.87</td>\n",
       "      <td>144135.98</td>\n",
       "      <td>134050.07</td>\n",
       "      <td>Florida</td>\n",
       "      <td>105733.54</td>\n",
       "    </tr>\n",
       "    <tr>\n",
       "      <th>27</th>\n",
       "      <td>72107.60</td>\n",
       "      <td>127864.55</td>\n",
       "      <td>353183.81</td>\n",
       "      <td>New York</td>\n",
       "      <td>105008.31</td>\n",
       "    </tr>\n",
       "    <tr>\n",
       "      <th>28</th>\n",
       "      <td>66051.52</td>\n",
       "      <td>182645.56</td>\n",
       "      <td>118148.20</td>\n",
       "      <td>Florida</td>\n",
       "      <td>103282.38</td>\n",
       "    </tr>\n",
       "    <tr>\n",
       "      <th>29</th>\n",
       "      <td>65605.48</td>\n",
       "      <td>153032.06</td>\n",
       "      <td>107138.38</td>\n",
       "      <td>New York</td>\n",
       "      <td>101004.64</td>\n",
       "    </tr>\n",
       "    <tr>\n",
       "      <th>30</th>\n",
       "      <td>61994.48</td>\n",
       "      <td>115641.28</td>\n",
       "      <td>91131.24</td>\n",
       "      <td>Florida</td>\n",
       "      <td>99937.59</td>\n",
       "    </tr>\n",
       "    <tr>\n",
       "      <th>31</th>\n",
       "      <td>61136.38</td>\n",
       "      <td>152701.92</td>\n",
       "      <td>88218.23</td>\n",
       "      <td>New York</td>\n",
       "      <td>97483.56</td>\n",
       "    </tr>\n",
       "    <tr>\n",
       "      <th>32</th>\n",
       "      <td>63408.86</td>\n",
       "      <td>129219.61</td>\n",
       "      <td>46085.25</td>\n",
       "      <td>California</td>\n",
       "      <td>97427.84</td>\n",
       "    </tr>\n",
       "    <tr>\n",
       "      <th>33</th>\n",
       "      <td>55493.95</td>\n",
       "      <td>103057.49</td>\n",
       "      <td>214634.81</td>\n",
       "      <td>Florida</td>\n",
       "      <td>96778.92</td>\n",
       "    </tr>\n",
       "    <tr>\n",
       "      <th>34</th>\n",
       "      <td>46426.07</td>\n",
       "      <td>157693.92</td>\n",
       "      <td>210797.67</td>\n",
       "      <td>California</td>\n",
       "      <td>96712.80</td>\n",
       "    </tr>\n",
       "    <tr>\n",
       "      <th>35</th>\n",
       "      <td>46014.02</td>\n",
       "      <td>85047.44</td>\n",
       "      <td>205517.64</td>\n",
       "      <td>New York</td>\n",
       "      <td>96479.51</td>\n",
       "    </tr>\n",
       "    <tr>\n",
       "      <th>36</th>\n",
       "      <td>28663.76</td>\n",
       "      <td>127056.21</td>\n",
       "      <td>201126.82</td>\n",
       "      <td>Florida</td>\n",
       "      <td>90708.19</td>\n",
       "    </tr>\n",
       "    <tr>\n",
       "      <th>37</th>\n",
       "      <td>44069.95</td>\n",
       "      <td>51283.14</td>\n",
       "      <td>197029.42</td>\n",
       "      <td>California</td>\n",
       "      <td>89949.14</td>\n",
       "    </tr>\n",
       "    <tr>\n",
       "      <th>38</th>\n",
       "      <td>20229.59</td>\n",
       "      <td>65947.93</td>\n",
       "      <td>185265.10</td>\n",
       "      <td>New York</td>\n",
       "      <td>81229.06</td>\n",
       "    </tr>\n",
       "    <tr>\n",
       "      <th>39</th>\n",
       "      <td>38558.51</td>\n",
       "      <td>82982.09</td>\n",
       "      <td>174999.30</td>\n",
       "      <td>California</td>\n",
       "      <td>81005.76</td>\n",
       "    </tr>\n",
       "    <tr>\n",
       "      <th>40</th>\n",
       "      <td>28754.33</td>\n",
       "      <td>118546.05</td>\n",
       "      <td>172795.67</td>\n",
       "      <td>California</td>\n",
       "      <td>78239.91</td>\n",
       "    </tr>\n",
       "    <tr>\n",
       "      <th>41</th>\n",
       "      <td>27892.92</td>\n",
       "      <td>84710.77</td>\n",
       "      <td>164470.71</td>\n",
       "      <td>Florida</td>\n",
       "      <td>77798.83</td>\n",
       "    </tr>\n",
       "    <tr>\n",
       "      <th>42</th>\n",
       "      <td>23640.93</td>\n",
       "      <td>96189.63</td>\n",
       "      <td>148001.11</td>\n",
       "      <td>California</td>\n",
       "      <td>71498.49</td>\n",
       "    </tr>\n",
       "    <tr>\n",
       "      <th>43</th>\n",
       "      <td>15505.73</td>\n",
       "      <td>127382.30</td>\n",
       "      <td>35534.17</td>\n",
       "      <td>New York</td>\n",
       "      <td>69758.98</td>\n",
       "    </tr>\n",
       "    <tr>\n",
       "      <th>44</th>\n",
       "      <td>22177.74</td>\n",
       "      <td>154806.14</td>\n",
       "      <td>28334.72</td>\n",
       "      <td>California</td>\n",
       "      <td>65200.33</td>\n",
       "    </tr>\n",
       "    <tr>\n",
       "      <th>45</th>\n",
       "      <td>1000.23</td>\n",
       "      <td>124153.04</td>\n",
       "      <td>1903.93</td>\n",
       "      <td>New York</td>\n",
       "      <td>64926.08</td>\n",
       "    </tr>\n",
       "    <tr>\n",
       "      <th>46</th>\n",
       "      <td>1315.46</td>\n",
       "      <td>115816.21</td>\n",
       "      <td>297114.46</td>\n",
       "      <td>Florida</td>\n",
       "      <td>49490.75</td>\n",
       "    </tr>\n",
       "    <tr>\n",
       "      <th>47</th>\n",
       "      <td>0.00</td>\n",
       "      <td>135426.92</td>\n",
       "      <td>0.00</td>\n",
       "      <td>California</td>\n",
       "      <td>42559.73</td>\n",
       "    </tr>\n",
       "    <tr>\n",
       "      <th>48</th>\n",
       "      <td>542.05</td>\n",
       "      <td>51743.15</td>\n",
       "      <td>0.00</td>\n",
       "      <td>New York</td>\n",
       "      <td>35673.41</td>\n",
       "    </tr>\n",
       "    <tr>\n",
       "      <th>49</th>\n",
       "      <td>0.00</td>\n",
       "      <td>116983.80</td>\n",
       "      <td>45173.06</td>\n",
       "      <td>California</td>\n",
       "      <td>14681.40</td>\n",
       "    </tr>\n",
       "  </tbody>\n",
       "</table>\n",
       "</div>"
      ],
      "text/plain": [
       "    R&D Spend  Administration  Marketing Spend       State     Profit\n",
       "0   165349.20       136897.80        471784.10    New York  192261.83\n",
       "1   162597.70       151377.59        443898.53  California  191792.06\n",
       "2   153441.51       101145.55        407934.54     Florida  191050.39\n",
       "3   144372.41       118671.85        383199.62    New York  182901.99\n",
       "4   142107.34        91391.77        366168.42     Florida  166187.94\n",
       "5   131876.90        99814.71        362861.36    New York  156991.12\n",
       "6   134615.46       147198.87        127716.82  California  156122.51\n",
       "7   130298.13       145530.06        323876.68     Florida  155752.60\n",
       "8   120542.52       148718.95        311613.29    New York  152211.77\n",
       "9   123334.88       108679.17        304981.62  California  149759.96\n",
       "10  101913.08       110594.11        229160.95     Florida  146121.95\n",
       "11  100671.96        91790.61        249744.55  California  144259.40\n",
       "12   93863.75       127320.38        249839.44     Florida  141585.52\n",
       "13   91992.39       135495.07        252664.93  California  134307.35\n",
       "14  119943.24       156547.42        256512.92     Florida  132602.65\n",
       "15  114523.61       122616.84        261776.23    New York  129917.04\n",
       "16   78013.11       121597.55        264346.06  California  126992.93\n",
       "17   94657.16       145077.58        282574.31    New York  125370.37\n",
       "18   91749.16       114175.79        294919.57     Florida  124266.90\n",
       "19   86419.70       153514.11             0.00    New York  122776.86\n",
       "20   76253.86       113867.30        298664.47  California  118474.03\n",
       "21   78389.47       153773.43        299737.29    New York  111313.02\n",
       "22   73994.56       122782.75        303319.26     Florida  110352.25\n",
       "23   67532.53       105751.03        304768.73     Florida  108733.99\n",
       "24   77044.01        99281.34        140574.81    New York  108552.04\n",
       "25   64664.71       139553.16        137962.62  California  107404.34\n",
       "26   75328.87       144135.98        134050.07     Florida  105733.54\n",
       "27   72107.60       127864.55        353183.81    New York  105008.31\n",
       "28   66051.52       182645.56        118148.20     Florida  103282.38\n",
       "29   65605.48       153032.06        107138.38    New York  101004.64\n",
       "30   61994.48       115641.28         91131.24     Florida   99937.59\n",
       "31   61136.38       152701.92         88218.23    New York   97483.56\n",
       "32   63408.86       129219.61         46085.25  California   97427.84\n",
       "33   55493.95       103057.49        214634.81     Florida   96778.92\n",
       "34   46426.07       157693.92        210797.67  California   96712.80\n",
       "35   46014.02        85047.44        205517.64    New York   96479.51\n",
       "36   28663.76       127056.21        201126.82     Florida   90708.19\n",
       "37   44069.95        51283.14        197029.42  California   89949.14\n",
       "38   20229.59        65947.93        185265.10    New York   81229.06\n",
       "39   38558.51        82982.09        174999.30  California   81005.76\n",
       "40   28754.33       118546.05        172795.67  California   78239.91\n",
       "41   27892.92        84710.77        164470.71     Florida   77798.83\n",
       "42   23640.93        96189.63        148001.11  California   71498.49\n",
       "43   15505.73       127382.30         35534.17    New York   69758.98\n",
       "44   22177.74       154806.14         28334.72  California   65200.33\n",
       "45    1000.23       124153.04          1903.93    New York   64926.08\n",
       "46    1315.46       115816.21        297114.46     Florida   49490.75\n",
       "47       0.00       135426.92             0.00  California   42559.73\n",
       "48     542.05        51743.15             0.00    New York   35673.41\n",
       "49       0.00       116983.80         45173.06  California   14681.40"
      ]
     },
     "execution_count": 2,
     "metadata": {},
     "output_type": "execute_result"
    }
   ],
   "source": [
    "#Reading Dataset\n",
    "\n",
    "data = pd.read_csv(\"startups.csv\")\n",
    "data"
   ]
  },
  {
   "cell_type": "markdown",
   "id": "2aca034c",
   "metadata": {},
   "source": [
    "## EDA"
   ]
  },
  {
   "cell_type": "code",
   "execution_count": 3,
   "id": "728d6ccb",
   "metadata": {},
   "outputs": [
    {
     "name": "stdout",
     "output_type": "stream",
     "text": [
      "<class 'pandas.core.frame.DataFrame'>\n",
      "RangeIndex: 50 entries, 0 to 49\n",
      "Data columns (total 5 columns):\n",
      " #   Column           Non-Null Count  Dtype  \n",
      "---  ------           --------------  -----  \n",
      " 0   R&D Spend        50 non-null     float64\n",
      " 1   Administration   50 non-null     float64\n",
      " 2   Marketing Spend  50 non-null     float64\n",
      " 3   State            50 non-null     object \n",
      " 4   Profit           50 non-null     float64\n",
      "dtypes: float64(4), object(1)\n",
      "memory usage: 2.1+ KB\n"
     ]
    }
   ],
   "source": [
    "data.info()"
   ]
  },
  {
   "cell_type": "code",
   "execution_count": 4,
   "id": "fb5a6022",
   "metadata": {},
   "outputs": [
    {
     "data": {
      "text/html": [
       "<div>\n",
       "<style scoped>\n",
       "    .dataframe tbody tr th:only-of-type {\n",
       "        vertical-align: middle;\n",
       "    }\n",
       "\n",
       "    .dataframe tbody tr th {\n",
       "        vertical-align: top;\n",
       "    }\n",
       "\n",
       "    .dataframe thead th {\n",
       "        text-align: right;\n",
       "    }\n",
       "</style>\n",
       "<table border=\"1\" class=\"dataframe\">\n",
       "  <thead>\n",
       "    <tr style=\"text-align: right;\">\n",
       "      <th></th>\n",
       "      <th>RDS</th>\n",
       "      <th>ADS</th>\n",
       "      <th>MKTS</th>\n",
       "      <th>State</th>\n",
       "      <th>Profit</th>\n",
       "    </tr>\n",
       "  </thead>\n",
       "  <tbody>\n",
       "    <tr>\n",
       "      <th>0</th>\n",
       "      <td>165349.20</td>\n",
       "      <td>136897.80</td>\n",
       "      <td>471784.10</td>\n",
       "      <td>New York</td>\n",
       "      <td>192261.83</td>\n",
       "    </tr>\n",
       "    <tr>\n",
       "      <th>1</th>\n",
       "      <td>162597.70</td>\n",
       "      <td>151377.59</td>\n",
       "      <td>443898.53</td>\n",
       "      <td>California</td>\n",
       "      <td>191792.06</td>\n",
       "    </tr>\n",
       "    <tr>\n",
       "      <th>2</th>\n",
       "      <td>153441.51</td>\n",
       "      <td>101145.55</td>\n",
       "      <td>407934.54</td>\n",
       "      <td>Florida</td>\n",
       "      <td>191050.39</td>\n",
       "    </tr>\n",
       "    <tr>\n",
       "      <th>3</th>\n",
       "      <td>144372.41</td>\n",
       "      <td>118671.85</td>\n",
       "      <td>383199.62</td>\n",
       "      <td>New York</td>\n",
       "      <td>182901.99</td>\n",
       "    </tr>\n",
       "    <tr>\n",
       "      <th>4</th>\n",
       "      <td>142107.34</td>\n",
       "      <td>91391.77</td>\n",
       "      <td>366168.42</td>\n",
       "      <td>Florida</td>\n",
       "      <td>166187.94</td>\n",
       "    </tr>\n",
       "  </tbody>\n",
       "</table>\n",
       "</div>"
      ],
      "text/plain": [
       "         RDS        ADS       MKTS       State     Profit\n",
       "0  165349.20  136897.80  471784.10    New York  192261.83\n",
       "1  162597.70  151377.59  443898.53  California  191792.06\n",
       "2  153441.51  101145.55  407934.54     Florida  191050.39\n",
       "3  144372.41  118671.85  383199.62    New York  182901.99\n",
       "4  142107.34   91391.77  366168.42     Florida  166187.94"
      ]
     },
     "execution_count": 4,
     "metadata": {},
     "output_type": "execute_result"
    }
   ],
   "source": [
    "#Renaming Coloumn Names and dropping State coloumn\n",
    "data1 = data.rename({\"R&D Spend\":\"RDS\" , \"Administration\":\"ADS\" , \"Marketing Spend\":\"MKTS\" },axis=1 )\n",
    "data1.head()"
   ]
  },
  {
   "cell_type": "code",
   "execution_count": 5,
   "id": "708506c6",
   "metadata": {},
   "outputs": [
    {
     "data": {
      "text/html": [
       "<div>\n",
       "<style scoped>\n",
       "    .dataframe tbody tr th:only-of-type {\n",
       "        vertical-align: middle;\n",
       "    }\n",
       "\n",
       "    .dataframe tbody tr th {\n",
       "        vertical-align: top;\n",
       "    }\n",
       "\n",
       "    .dataframe thead th {\n",
       "        text-align: right;\n",
       "    }\n",
       "</style>\n",
       "<table border=\"1\" class=\"dataframe\">\n",
       "  <thead>\n",
       "    <tr style=\"text-align: right;\">\n",
       "      <th></th>\n",
       "      <th>RDS</th>\n",
       "      <th>ADS</th>\n",
       "      <th>MKTS</th>\n",
       "      <th>State</th>\n",
       "      <th>Profit</th>\n",
       "    </tr>\n",
       "  </thead>\n",
       "  <tbody>\n",
       "  </tbody>\n",
       "</table>\n",
       "</div>"
      ],
      "text/plain": [
       "Empty DataFrame\n",
       "Columns: [RDS, ADS, MKTS, State, Profit]\n",
       "Index: []"
      ]
     },
     "execution_count": 5,
     "metadata": {},
     "output_type": "execute_result"
    }
   ],
   "source": [
    "#Checking duplicate values\n",
    "data1[data1.duplicated()]"
   ]
  },
  {
   "cell_type": "markdown",
   "id": "5598ff35",
   "metadata": {},
   "source": [
    "#No duplicate values"
   ]
  },
  {
   "cell_type": "code",
   "execution_count": 6,
   "id": "c7b99e64",
   "metadata": {},
   "outputs": [
    {
     "data": {
      "text/html": [
       "<div>\n",
       "<style scoped>\n",
       "    .dataframe tbody tr th:only-of-type {\n",
       "        vertical-align: middle;\n",
       "    }\n",
       "\n",
       "    .dataframe tbody tr th {\n",
       "        vertical-align: top;\n",
       "    }\n",
       "\n",
       "    .dataframe thead th {\n",
       "        text-align: right;\n",
       "    }\n",
       "</style>\n",
       "<table border=\"1\" class=\"dataframe\">\n",
       "  <thead>\n",
       "    <tr style=\"text-align: right;\">\n",
       "      <th></th>\n",
       "      <th>RDS</th>\n",
       "      <th>ADS</th>\n",
       "      <th>MKTS</th>\n",
       "      <th>Profit</th>\n",
       "    </tr>\n",
       "  </thead>\n",
       "  <tbody>\n",
       "    <tr>\n",
       "      <th>count</th>\n",
       "      <td>50.000000</td>\n",
       "      <td>50.000000</td>\n",
       "      <td>50.000000</td>\n",
       "      <td>50.000000</td>\n",
       "    </tr>\n",
       "    <tr>\n",
       "      <th>mean</th>\n",
       "      <td>73721.615600</td>\n",
       "      <td>121344.639600</td>\n",
       "      <td>211025.097800</td>\n",
       "      <td>112012.639200</td>\n",
       "    </tr>\n",
       "    <tr>\n",
       "      <th>std</th>\n",
       "      <td>45902.256482</td>\n",
       "      <td>28017.802755</td>\n",
       "      <td>122290.310726</td>\n",
       "      <td>40306.180338</td>\n",
       "    </tr>\n",
       "    <tr>\n",
       "      <th>min</th>\n",
       "      <td>0.000000</td>\n",
       "      <td>51283.140000</td>\n",
       "      <td>0.000000</td>\n",
       "      <td>14681.400000</td>\n",
       "    </tr>\n",
       "    <tr>\n",
       "      <th>25%</th>\n",
       "      <td>39936.370000</td>\n",
       "      <td>103730.875000</td>\n",
       "      <td>129300.132500</td>\n",
       "      <td>90138.902500</td>\n",
       "    </tr>\n",
       "    <tr>\n",
       "      <th>50%</th>\n",
       "      <td>73051.080000</td>\n",
       "      <td>122699.795000</td>\n",
       "      <td>212716.240000</td>\n",
       "      <td>107978.190000</td>\n",
       "    </tr>\n",
       "    <tr>\n",
       "      <th>75%</th>\n",
       "      <td>101602.800000</td>\n",
       "      <td>144842.180000</td>\n",
       "      <td>299469.085000</td>\n",
       "      <td>139765.977500</td>\n",
       "    </tr>\n",
       "    <tr>\n",
       "      <th>max</th>\n",
       "      <td>165349.200000</td>\n",
       "      <td>182645.560000</td>\n",
       "      <td>471784.100000</td>\n",
       "      <td>192261.830000</td>\n",
       "    </tr>\n",
       "  </tbody>\n",
       "</table>\n",
       "</div>"
      ],
      "text/plain": [
       "                 RDS            ADS           MKTS         Profit\n",
       "count      50.000000      50.000000      50.000000      50.000000\n",
       "mean    73721.615600  121344.639600  211025.097800  112012.639200\n",
       "std     45902.256482   28017.802755  122290.310726   40306.180338\n",
       "min         0.000000   51283.140000       0.000000   14681.400000\n",
       "25%     39936.370000  103730.875000  129300.132500   90138.902500\n",
       "50%     73051.080000  122699.795000  212716.240000  107978.190000\n",
       "75%    101602.800000  144842.180000  299469.085000  139765.977500\n",
       "max    165349.200000  182645.560000  471784.100000  192261.830000"
      ]
     },
     "execution_count": 6,
     "metadata": {},
     "output_type": "execute_result"
    }
   ],
   "source": [
    "data1.describe()"
   ]
  },
  {
   "cell_type": "markdown",
   "id": "ffa116b6",
   "metadata": {},
   "source": [
    "## Correlation Analysis"
   ]
  },
  {
   "cell_type": "code",
   "execution_count": 7,
   "id": "83d6d2b4",
   "metadata": {},
   "outputs": [
    {
     "name": "stderr",
     "output_type": "stream",
     "text": [
      "C:\\Users\\hp\\AppData\\Local\\Temp\\ipykernel_9320\\3734675979.py:1: FutureWarning: The default value of numeric_only in DataFrame.corr is deprecated. In a future version, it will default to False. Select only valid columns or specify the value of numeric_only to silence this warning.\n",
      "  data1.corr()\n"
     ]
    },
    {
     "data": {
      "text/html": [
       "<div>\n",
       "<style scoped>\n",
       "    .dataframe tbody tr th:only-of-type {\n",
       "        vertical-align: middle;\n",
       "    }\n",
       "\n",
       "    .dataframe tbody tr th {\n",
       "        vertical-align: top;\n",
       "    }\n",
       "\n",
       "    .dataframe thead th {\n",
       "        text-align: right;\n",
       "    }\n",
       "</style>\n",
       "<table border=\"1\" class=\"dataframe\">\n",
       "  <thead>\n",
       "    <tr style=\"text-align: right;\">\n",
       "      <th></th>\n",
       "      <th>RDS</th>\n",
       "      <th>ADS</th>\n",
       "      <th>MKTS</th>\n",
       "      <th>Profit</th>\n",
       "    </tr>\n",
       "  </thead>\n",
       "  <tbody>\n",
       "    <tr>\n",
       "      <th>RDS</th>\n",
       "      <td>1.000000</td>\n",
       "      <td>0.241955</td>\n",
       "      <td>0.724248</td>\n",
       "      <td>0.972900</td>\n",
       "    </tr>\n",
       "    <tr>\n",
       "      <th>ADS</th>\n",
       "      <td>0.241955</td>\n",
       "      <td>1.000000</td>\n",
       "      <td>-0.032154</td>\n",
       "      <td>0.200717</td>\n",
       "    </tr>\n",
       "    <tr>\n",
       "      <th>MKTS</th>\n",
       "      <td>0.724248</td>\n",
       "      <td>-0.032154</td>\n",
       "      <td>1.000000</td>\n",
       "      <td>0.747766</td>\n",
       "    </tr>\n",
       "    <tr>\n",
       "      <th>Profit</th>\n",
       "      <td>0.972900</td>\n",
       "      <td>0.200717</td>\n",
       "      <td>0.747766</td>\n",
       "      <td>1.000000</td>\n",
       "    </tr>\n",
       "  </tbody>\n",
       "</table>\n",
       "</div>"
      ],
      "text/plain": [
       "             RDS       ADS      MKTS    Profit\n",
       "RDS     1.000000  0.241955  0.724248  0.972900\n",
       "ADS     0.241955  1.000000 -0.032154  0.200717\n",
       "MKTS    0.724248 -0.032154  1.000000  0.747766\n",
       "Profit  0.972900  0.200717  0.747766  1.000000"
      ]
     },
     "execution_count": 7,
     "metadata": {},
     "output_type": "execute_result"
    }
   ],
   "source": [
    "data1.corr()"
   ]
  },
  {
   "cell_type": "code",
   "execution_count": 8,
   "id": "73a19d83",
   "metadata": {},
   "outputs": [
    {
     "data": {
      "text/plain": [
       "<seaborn.axisgrid.PairGrid at 0x2262c3fed10>"
      ]
     },
     "execution_count": 8,
     "metadata": {},
     "output_type": "execute_result"
    },
    {
     "data": {
      "image/png": "[encoded data removed]",
      "text/plain": [
       "<Figure size 1000x1000 with 20 Axes>"
      ]
     },
     "metadata": {},
     "output_type": "display_data"
    }
   ],
   "source": [
    "sns.set_style('darkgrid')\n",
    "sns.pairplot(data1)"
   ]
  },
  {
   "cell_type": "code",
   "execution_count": 9,
   "id": "4f3a1c69",
   "metadata": {},
   "outputs": [
    {
     "data": {
      "text/plain": [
       "RDS       0\n",
       "ADS       0\n",
       "MKTS      0\n",
       "State     0\n",
       "Profit    0\n",
       "dtype: int64"
      ]
     },
     "execution_count": 9,
     "metadata": {},
     "output_type": "execute_result"
    }
   ],
   "source": [
    "#check for missing values\n",
    "data1.isna().sum()"
   ]
  },
  {
   "cell_type": "code",
   "execution_count": 10,
   "id": "b682ce88",
   "metadata": {},
   "outputs": [
    {
     "data": {
      "text/plain": [
       "RDS       0\n",
       "ADS       0\n",
       "MKTS      0\n",
       "State     0\n",
       "Profit    0\n",
       "dtype: int64"
      ]
     },
     "execution_count": 10,
     "metadata": {},
     "output_type": "execute_result"
    }
   ],
   "source": [
    "#Check for null values\n",
    "data1.isnull().sum()"
   ]
  },
  {
   "cell_type": "markdown",
   "id": "881ae1be",
   "metadata": {},
   "source": [
    "## Prepare a preliminary model with all features"
   ]
  },
  {
   "cell_type": "code",
   "execution_count": 11,
   "id": "74c243ee",
   "metadata": {},
   "outputs": [
    {
     "data": {
      "text/html": [
       "<table class=\"simpletable\">\n",
       "<caption>OLS Regression Results</caption>\n",
       "<tr>\n",
       "  <th>Dep. Variable:</th>         <td>Profit</td>      <th>  R-squared:         </th> <td>   0.951</td>\n",
       "</tr>\n",
       "<tr>\n",
       "  <th>Model:</th>                   <td>OLS</td>       <th>  Adj. R-squared:    </th> <td>   0.948</td>\n",
       "</tr>\n",
       "<tr>\n",
       "  <th>Method:</th>             <td>Least Squares</td>  <th>  F-statistic:       </th> <td>   296.0</td>\n",
       "</tr>\n",
       "<tr>\n",
       "  <th>Date:</th>             <td>Wed, 08 Nov 2023</td> <th>  Prob (F-statistic):</th> <td>4.53e-30</td>\n",
       "</tr>\n",
       "<tr>\n",
       "  <th>Time:</th>                 <td>17:00:04</td>     <th>  Log-Likelihood:    </th> <td> -525.39</td>\n",
       "</tr>\n",
       "<tr>\n",
       "  <th>No. Observations:</th>      <td>    50</td>      <th>  AIC:               </th> <td>   1059.</td>\n",
       "</tr>\n",
       "<tr>\n",
       "  <th>Df Residuals:</th>          <td>    46</td>      <th>  BIC:               </th> <td>   1066.</td>\n",
       "</tr>\n",
       "<tr>\n",
       "  <th>Df Model:</th>              <td>     3</td>      <th>                     </th>     <td> </td>   \n",
       "</tr>\n",
       "<tr>\n",
       "  <th>Covariance Type:</th>      <td>nonrobust</td>    <th>                     </th>     <td> </td>   \n",
       "</tr>\n",
       "</table>\n",
       "<table class=\"simpletable\">\n",
       "<tr>\n",
       "      <td></td>         <th>coef</th>     <th>std err</th>      <th>t</th>      <th>P>|t|</th>  <th>[0.025</th>    <th>0.975]</th>  \n",
       "</tr>\n",
       "<tr>\n",
       "  <th>Intercept</th> <td> 5.012e+04</td> <td> 6572.353</td> <td>    7.626</td> <td> 0.000</td> <td> 3.69e+04</td> <td> 6.34e+04</td>\n",
       "</tr>\n",
       "<tr>\n",
       "  <th>RDS</th>       <td>    0.8057</td> <td>    0.045</td> <td>   17.846</td> <td> 0.000</td> <td>    0.715</td> <td>    0.897</td>\n",
       "</tr>\n",
       "<tr>\n",
       "  <th>ADS</th>       <td>   -0.0268</td> <td>    0.051</td> <td>   -0.526</td> <td> 0.602</td> <td>   -0.130</td> <td>    0.076</td>\n",
       "</tr>\n",
       "<tr>\n",
       "  <th>MKTS</th>      <td>    0.0272</td> <td>    0.016</td> <td>    1.655</td> <td> 0.105</td> <td>   -0.006</td> <td>    0.060</td>\n",
       "</tr>\n",
       "</table>\n",
       "<table class=\"simpletable\">\n",
       "<tr>\n",
       "  <th>Omnibus:</th>       <td>14.838</td> <th>  Durbin-Watson:     </th> <td>   1.282</td>\n",
       "</tr>\n",
       "<tr>\n",
       "  <th>Prob(Omnibus):</th> <td> 0.001</td> <th>  Jarque-Bera (JB):  </th> <td>  21.442</td>\n",
       "</tr>\n",
       "<tr>\n",
       "  <th>Skew:</th>          <td>-0.949</td> <th>  Prob(JB):          </th> <td>2.21e-05</td>\n",
       "</tr>\n",
       "<tr>\n",
       "  <th>Kurtosis:</th>      <td> 5.586</td> <th>  Cond. No.          </th> <td>1.40e+06</td>\n",
       "</tr>\n",
       "</table><br/><br/>Notes:<br/>[1] Standard Errors assume that the covariance matrix of the errors is correctly specified.<br/>[2] The condition number is large, 1.4e+06. This might indicate that there are<br/>strong multicollinearity or other numerical problems."
      ],
      "text/plain": [
       "<class 'statsmodels.iolib.summary.Summary'>\n",
       "\"\"\"\n",
       "                            OLS Regression Results                            \n",
       "==============================================================================\n",
       "Dep. Variable:                 Profit   R-squared:                       0.951\n",
       "Model:                            OLS   Adj. R-squared:                  0.948\n",
       "Method:                 Least Squares   F-statistic:                     296.0\n",
       "Date:                Wed, 08 Nov 2023   Prob (F-statistic):           4.53e-30\n",
       "Time:                        17:00:04   Log-Likelihood:                -525.39\n",
       "No. Observations:                  50   AIC:                             1059.\n",
       "Df Residuals:                      46   BIC:                             1066.\n",
       "Df Model:                           3                                         \n",
       "Covariance Type:            nonrobust                                         \n",
       "==============================================================================\n",
       "                 coef    std err          t      P>|t|      [0.025      0.975]\n",
       "------------------------------------------------------------------------------\n",
       "Intercept   5.012e+04   6572.353      7.626      0.000    3.69e+04    6.34e+04\n",
       "RDS            0.8057      0.045     17.846      0.000       0.715       0.897\n",
       "ADS           -0.0268      0.051     -0.526      0.602      -0.130       0.076\n",
       "MKTS           0.0272      0.016      1.655      0.105      -0.006       0.060\n",
       "==============================================================================\n",
       "Omnibus:                       14.838   Durbin-Watson:                   1.282\n",
       "Prob(Omnibus):                  0.001   Jarque-Bera (JB):               21.442\n",
       "Skew:                          -0.949   Prob(JB):                     2.21e-05\n",
       "Kurtosis:                       5.586   Cond. No.                     1.40e+06\n",
       "==============================================================================\n",
       "\n",
       "Notes:\n",
       "[1] Standard Errors assume that the covariance matrix of the errors is correctly specified.\n",
       "[2] The condition number is large, 1.4e+06. This might indicate that there are\n",
       "strong multicollinearity or other numerical problems.\n",
       "\"\"\""
      ]
     },
     "execution_count": 11,
     "metadata": {},
     "output_type": "execute_result"
    }
   ],
   "source": [
    "model = smf.ols(\"Profit~RDS+ADS+MKTS\",data = data1).fit()\n",
    "model.summary()"
   ]
  },
  {
   "cell_type": "markdown",
   "id": "6399847e",
   "metadata": {},
   "source": [
    "## Model Testing"
   ]
  },
  {
   "cell_type": "code",
   "execution_count": 12,
   "id": "c9034cdd",
   "metadata": {},
   "outputs": [
    {
     "data": {
      "text/plain": [
       "Intercept    50122.192990\n",
       "RDS              0.805715\n",
       "ADS             -0.026816\n",
       "MKTS             0.027228\n",
       "dtype: float64"
      ]
     },
     "execution_count": 12,
     "metadata": {},
     "output_type": "execute_result"
    }
   ],
   "source": [
    "#Coefficients\n",
    "model.params"
   ]
  },
  {
   "cell_type": "code",
   "execution_count": 13,
   "id": "4d7e845c",
   "metadata": {},
   "outputs": [
    {
     "name": "stdout",
     "output_type": "stream",
     "text": [
      "Intercept     7.626218\n",
      "RDS          17.846374\n",
      "ADS          -0.525507\n",
      "MKTS          1.655077\n",
      "dtype: float64 Intercept    0.00000\n",
      "RDS          0.00000\n",
      "ADS          0.60176\n",
      "MKTS         0.10472\n",
      "dtype: float64\n"
     ]
    }
   ],
   "source": [
    "# Finding tvalues and pvalues\n",
    "print(model.tvalues , np.round(model.pvalues,5))\n"
   ]
  },
  {
   "cell_type": "code",
   "execution_count": 14,
   "id": "a8b290fa",
   "metadata": {},
   "outputs": [],
   "source": [
    "#Pvalues of ADS and MKTS are >0.05 which indicates they are insignificant"
   ]
  },
  {
   "cell_type": "code",
   "execution_count": 15,
   "id": "fd96d308",
   "metadata": {},
   "outputs": [
    {
     "data": {
      "text/plain": [
       "(0.9507459940683246, 0.9475337762901719)"
      ]
     },
     "execution_count": 15,
     "metadata": {},
     "output_type": "execute_result"
    }
   ],
   "source": [
    "# Finding rsquared values\n",
    "model.rsquared , model.rsquared_adj  # Model accuracy is 94.75%"
   ]
  },
  {
   "cell_type": "markdown",
   "id": "76939637",
   "metadata": {},
   "source": [
    "## Simple Linear Regression Models"
   ]
  },
  {
   "cell_type": "code",
   "execution_count": 16,
   "id": "37194ced",
   "metadata": {},
   "outputs": [],
   "source": [
    "# Build SLR and MLR models for insignificant variables 'ADMS' and 'MKTS'\n",
    "# Also find their tvalues and pvalues"
   ]
  },
  {
   "cell_type": "code",
   "execution_count": 17,
   "id": "b6952195",
   "metadata": {},
   "outputs": [
    {
     "name": "stdout",
     "output_type": "stream",
     "text": [
      "Intercept    3.040044\n",
      "ADS          1.419493\n",
      "dtype: float64 Intercept    0.003824\n",
      "ADS          0.162217\n",
      "dtype: float64\n"
     ]
    }
   ],
   "source": [
    "mdl_a = smf.ols(\"Profit~ADS\",data = data1).fit()\n",
    "print(mdl_a.tvalues , mdl_a.pvalues) #ADMS has insignificant p value"
   ]
  },
  {
   "cell_type": "code",
   "execution_count": 18,
   "id": "2f0caec7",
   "metadata": {},
   "outputs": [
    {
     "name": "stdout",
     "output_type": "stream",
     "text": [
      "Intercept    7.808356\n",
      "MKTS         7.802657\n",
      "dtype: float64 Intercept    4.294735e-10\n",
      "MKTS         4.381073e-10\n",
      "dtype: float64\n"
     ]
    }
   ],
   "source": [
    "mdl_m = smf.ols(\"Profit~MKTS\",data = data1).fit()\n",
    "print(mdl_m.tvalues , mdl_m.pvalues) #MKTS has significant p value"
   ]
  },
  {
   "cell_type": "code",
   "execution_count": 19,
   "id": "afa8b5c4",
   "metadata": {},
   "outputs": [
    {
     "name": "stdout",
     "output_type": "stream",
     "text": [
      "Intercept    1.142741\n",
      "ADS          2.467779\n",
      "MKTS         8.281039\n",
      "dtype: float64 Intercept    2.589341e-01\n",
      "ADS          1.729198e-02\n",
      "MKTS         9.727245e-11\n",
      "dtype: float64\n"
     ]
    }
   ],
   "source": [
    "mdl_am = smf.ols(\"Profit~ADS+MKTS\",data = data1).fit()\n",
    "print(mdl_am.tvalues , mdl_am.pvalues) # varaibles have significant pvalues"
   ]
  },
  {
   "cell_type": "code",
   "execution_count": 20,
   "id": "aa2fc407",
   "metadata": {},
   "outputs": [
    {
     "name": "stdout",
     "output_type": "stream",
     "text": [
      "mdl_a = 0.020293122877105274 mdl_m= 0.5499692740826254 mdl_am= 0.593115441684601\n"
     ]
    }
   ],
   "source": [
    "print(\"mdl_a =\" , mdl_a.rsquared_adj ,\"mdl_m=\" , mdl_m.rsquared_adj ,\"mdl_am=\", mdl_am.rsquared_adj)"
   ]
  },
  {
   "cell_type": "markdown",
   "id": "72f41c45",
   "metadata": {},
   "source": [
    "## Model Validation "
   ]
  },
  {
   "cell_type": "markdown",
   "id": "91099b48",
   "metadata": {},
   "source": [
    "## Two Techniques\n",
    "1) Collinearity Check\n",
    "2) Residual Analysis"
   ]
  },
  {
   "cell_type": "code",
   "execution_count": 21,
   "id": "feb7c41c",
   "metadata": {},
   "outputs": [
    {
     "data": {
      "text/html": [
       "<div>\n",
       "<style scoped>\n",
       "    .dataframe tbody tr th:only-of-type {\n",
       "        vertical-align: middle;\n",
       "    }\n",
       "\n",
       "    .dataframe tbody tr th {\n",
       "        vertical-align: top;\n",
       "    }\n",
       "\n",
       "    .dataframe thead th {\n",
       "        text-align: right;\n",
       "    }\n",
       "</style>\n",
       "<table border=\"1\" class=\"dataframe\">\n",
       "  <thead>\n",
       "    <tr style=\"text-align: right;\">\n",
       "      <th></th>\n",
       "      <th>Variables</th>\n",
       "      <th>Vif</th>\n",
       "    </tr>\n",
       "  </thead>\n",
       "  <tbody>\n",
       "    <tr>\n",
       "      <th>0</th>\n",
       "      <td>RDS</td>\n",
       "      <td>2.468903</td>\n",
       "    </tr>\n",
       "    <tr>\n",
       "      <th>1</th>\n",
       "      <td>ADS</td>\n",
       "      <td>1.175091</td>\n",
       "    </tr>\n",
       "    <tr>\n",
       "      <th>2</th>\n",
       "      <td>MKTS</td>\n",
       "      <td>2.326773</td>\n",
       "    </tr>\n",
       "  </tbody>\n",
       "</table>\n",
       "</div>"
      ],
      "text/plain": [
       "  Variables       Vif\n",
       "0       RDS  2.468903\n",
       "1       ADS  1.175091\n",
       "2      MKTS  2.326773"
      ]
     },
     "execution_count": 21,
     "metadata": {},
     "output_type": "execute_result"
    }
   ],
   "source": [
    "# 1) Collinearity Problem Check\n",
    "# Calculate VIF = 1/(1-Rsquare) for all independent variables\n",
    "\n",
    "rsq_r=smf.ols(\"RDS~ADS+MKTS\",data=data1).fit().rsquared\n",
    "vif_r=1/(1-rsq_r)\n",
    "\n",
    "rsq_a=smf.ols(\"ADS~RDS+MKTS\",data=data1).fit().rsquared\n",
    "vif_a=1/(1-rsq_a)\n",
    "\n",
    "rsq_m=smf.ols(\"MKTS~RDS+ADS\",data=data1).fit().rsquared\n",
    "vif_m=1/(1-rsq_m)\n",
    "\n",
    "# Putting the values in Dataframe format\n",
    "d1={'Variables':['RDS','ADS','MKTS'],'Vif':[vif_r,vif_a,vif_m]}\n",
    "Vif_df=pd.DataFrame(d1)\n",
    "Vif_df"
   ]
  },
  {
   "cell_type": "code",
   "execution_count": 22,
   "id": "54a0f4a0",
   "metadata": {},
   "outputs": [],
   "source": [
    "#No variable has VIF>20, No Collinearity, so consider all varaibles in Regression equation"
   ]
  },
  {
   "cell_type": "code",
   "execution_count": 23,
   "id": "5990cb0b",
   "metadata": {},
   "outputs": [
    {
     "data": {
      "image/png": "[encoded data removed]",
      "text/plain": [
       "<Figure size 640x480 with 1 Axes>"
      ]
     },
     "metadata": {},
     "output_type": "display_data"
    }
   ],
   "source": [
    "# 2) Residual Analysis\n",
    "# Test for Normality of Residuals (Q-Q Plot) using residual model (model.resid)\n",
    "\n",
    "sm.qqplot(model.resid,line='q')\n",
    "plt.title(\"Normal Q-Q plot of residuals\")\n",
    "plt.show()"
   ]
  },
  {
   "cell_type": "code",
   "execution_count": 24,
   "id": "a4de081a",
   "metadata": {},
   "outputs": [
    {
     "data": {
      "text/plain": [
       "0      -259.422890\n",
       "1      2635.291768\n",
       "2      8903.110904\n",
       "3      9205.289974\n",
       "4     -5951.574183\n",
       "5     -6589.660571\n",
       "6     -1991.586669\n",
       "7     -4268.763048\n",
       "8       470.070301\n",
       "9     -5124.724110\n",
       "10    10612.933633\n",
       "11     8685.687039\n",
       "12    12447.465818\n",
       "13     6819.358337\n",
       "14   -16945.996335\n",
       "15   -16318.119985\n",
       "16    10077.524599\n",
       "17    -4822.077208\n",
       "18    -4747.326806\n",
       "19     7141.643633\n",
       "20     1834.360769\n",
       "21    -6006.431640\n",
       "22    -4354.731717\n",
       "23    -1262.625221\n",
       "24    -4810.926113\n",
       "25     5166.614935\n",
       "26    -4867.035350\n",
       "27    -9399.761457\n",
       "28     1622.353995\n",
       "29     -790.343452\n",
       "30      485.217064\n",
       "31     -204.296276\n",
       "32    -1573.488985\n",
       "33    -1136.087805\n",
       "34     7673.526259\n",
       "35     5967.910432\n",
       "36    15422.015415\n",
       "37      329.602292\n",
       "38    11531.629352\n",
       "39    -2723.251977\n",
       "40     3423.956009\n",
       "41     2996.273761\n",
       "42      878.078179\n",
       "43     9591.940037\n",
       "44      588.975084\n",
       "45    17275.430313\n",
       "46    -6675.456853\n",
       "47    -3930.858983\n",
       "48   -13497.978158\n",
       "49   -33533.734111\n",
       "dtype: float64"
      ]
     },
     "execution_count": 24,
     "metadata": {},
     "output_type": "execute_result"
    }
   ],
   "source": [
    "model.resid"
   ]
  },
  {
   "cell_type": "code",
   "execution_count": 25,
   "id": "be79570a",
   "metadata": {},
   "outputs": [
    {
     "data": {
      "text/plain": [
       "[array([49], dtype=int64)]"
      ]
     },
     "execution_count": 25,
     "metadata": {},
     "output_type": "execute_result"
    }
   ],
   "source": [
    "list(np.where(model.resid<-30000))"
   ]
  },
  {
   "cell_type": "code",
   "execution_count": 26,
   "id": "1f3401b6",
   "metadata": {},
   "outputs": [
    {
     "data": {
      "text/plain": [
       "<seaborn.axisgrid.FacetGrid at 0x2262ef2d650>"
      ]
     },
     "execution_count": 26,
     "metadata": {},
     "output_type": "execute_result"
    },
    {
     "data": {
      "image/png": "[encoded data removed]",
      "text/plain": [
       "<Figure size 500x500 with 1 Axes>"
      ]
     },
     "metadata": {},
     "output_type": "display_data"
    }
   ],
   "source": [
    "sns.displot(model.resid, kde = True)"
   ]
  },
  {
   "cell_type": "code",
   "execution_count": 27,
   "id": "ddd794d0",
   "metadata": {},
   "outputs": [
    {
     "data": {
      "image/png": "[encoded data removed]",
      "text/plain": [
       "<Figure size 640x480 with 1 Axes>"
      ]
     },
     "execution_count": 27,
     "metadata": {},
     "output_type": "execute_result"
    },
    {
     "data": {
      "image/png": "[encoded data removed]",
      "text/plain": [
       "<Figure size 640x480 with 1 Axes>"
      ]
     },
     "metadata": {},
     "output_type": "display_data"
    }
   ],
   "source": [
    "sm.graphics.influence_plot(model)\n"
   ]
  },
  {
   "cell_type": "markdown",
   "id": "f8be6091",
   "metadata": {},
   "source": [
    "## Residual Plot for Homoscedasticity"
   ]
  },
  {
   "cell_type": "code",
   "execution_count": 28,
   "id": "1f09f1e9",
   "metadata": {},
   "outputs": [
    {
     "data": {
      "text/plain": [
       "0     192521.252890\n",
       "1     189156.768232\n",
       "2     182147.279096\n",
       "3     173696.700026\n",
       "4     172139.514183\n",
       "5     163580.780571\n",
       "6     158114.096669\n",
       "7     160021.363048\n",
       "8     151741.699699\n",
       "9     154884.684110\n",
       "10    135509.016367\n",
       "11    135573.712961\n",
       "12    129138.054182\n",
       "13    127487.991663\n",
       "14    149548.646335\n",
       "15    146235.159985\n",
       "16    116915.405401\n",
       "17    130192.447208\n",
       "18    129014.226806\n",
       "19    115635.216367\n",
       "20    116639.669231\n",
       "21    117319.451640\n",
       "22    114706.981717\n",
       "23    109996.615221\n",
       "24    113362.966113\n",
       "25    102237.725065\n",
       "26    110600.575350\n",
       "27    114408.071457\n",
       "28    101660.026005\n",
       "29    101794.983452\n",
       "30     99452.372936\n",
       "31     97687.856276\n",
       "32     99001.328985\n",
       "33     97915.007805\n",
       "34     89039.273741\n",
       "35     90511.599568\n",
       "36     75286.174585\n",
       "37     89619.537708\n",
       "38     69697.430648\n",
       "39     83729.011977\n",
       "40     74815.953991\n",
       "41     74802.556239\n",
       "42     70620.411821\n",
       "43     60167.039963\n",
       "44     64611.354916\n",
       "45     47650.649687\n",
       "46     56166.206853\n",
       "47     46490.588983\n",
       "48     49171.388158\n",
       "49     48215.134111\n",
       "dtype: float64"
      ]
     },
     "execution_count": 28,
     "metadata": {},
     "output_type": "execute_result"
    }
   ],
   "source": [
    "model.fittedvalues"
   ]
  },
  {
   "cell_type": "code",
   "execution_count": 29,
   "id": "5c62f4af",
   "metadata": {},
   "outputs": [
    {
     "data": {
      "text/plain": [
       "0      -259.422890\n",
       "1      2635.291768\n",
       "2      8903.110904\n",
       "3      9205.289974\n",
       "4     -5951.574183\n",
       "5     -6589.660571\n",
       "6     -1991.586669\n",
       "7     -4268.763048\n",
       "8       470.070301\n",
       "9     -5124.724110\n",
       "10    10612.933633\n",
       "11     8685.687039\n",
       "12    12447.465818\n",
       "13     6819.358337\n",
       "14   -16945.996335\n",
       "15   -16318.119985\n",
       "16    10077.524599\n",
       "17    -4822.077208\n",
       "18    -4747.326806\n",
       "19     7141.643633\n",
       "20     1834.360769\n",
       "21    -6006.431640\n",
       "22    -4354.731717\n",
       "23    -1262.625221\n",
       "24    -4810.926113\n",
       "25     5166.614935\n",
       "26    -4867.035350\n",
       "27    -9399.761457\n",
       "28     1622.353995\n",
       "29     -790.343452\n",
       "30      485.217064\n",
       "31     -204.296276\n",
       "32    -1573.488985\n",
       "33    -1136.087805\n",
       "34     7673.526259\n",
       "35     5967.910432\n",
       "36    15422.015415\n",
       "37      329.602292\n",
       "38    11531.629352\n",
       "39    -2723.251977\n",
       "40     3423.956009\n",
       "41     2996.273761\n",
       "42      878.078179\n",
       "43     9591.940037\n",
       "44      588.975084\n",
       "45    17275.430313\n",
       "46    -6675.456853\n",
       "47    -3930.858983\n",
       "48   -13497.978158\n",
       "49   -33533.734111\n",
       "dtype: float64"
      ]
     },
     "execution_count": 29,
     "metadata": {},
     "output_type": "execute_result"
    }
   ],
   "source": [
    "model.resid"
   ]
  },
  {
   "cell_type": "code",
   "execution_count": 30,
   "id": "03aeed9b",
   "metadata": {},
   "outputs": [
    {
     "data": {
      "image/png": "[encoded data removed]",
      "text/plain": [
       "<Figure size 1000x600 with 1 Axes>"
      ]
     },
     "metadata": {},
     "output_type": "display_data"
    }
   ],
   "source": [
    "def get_standardized_values( vals ):\n",
    "    return (vals - vals.mean())/vals.std()\n",
    "\n",
    "plt.figure(figsize=(10,6))\n",
    "plt.scatter(get_standardized_values(model.fittedvalues),\n",
    "            get_standardized_values(model.resid))\n",
    "\n",
    "plt.title('Residual Plot')\n",
    "plt.xlabel('Standardized Fitted values')\n",
    "plt.ylabel('Standardized residual values')\n",
    "plt.show()\n"
   ]
  },
  {
   "cell_type": "markdown",
   "id": "8e3556c0",
   "metadata": {},
   "source": [
    "#Scatter is good,thus homoscedastisity is absent"
   ]
  },
  {
   "cell_type": "markdown",
   "id": "87982b4c",
   "metadata": {},
   "source": [
    "# Model Deletion Diagnostics (checking Outliers or Influencers\n",
    "## Two Techniques : 1. Cook's Distance & 2. Leverage value"
   ]
  },
  {
   "cell_type": "code",
   "execution_count": 31,
   "id": "0585d8ae",
   "metadata": {},
   "outputs": [
    {
     "data": {
      "text/plain": [
       "array([3.21825244e-05, 3.27591036e-03, 3.23842699e-02, 2.17206555e-02,\n",
       "       1.44833032e-02, 1.17158463e-02, 2.91766303e-03, 3.56513444e-03,\n",
       "       4.04303948e-05, 4.86758017e-03, 1.51064757e-02, 1.63564959e-02,\n",
       "       1.15516625e-02, 4.01422811e-03, 6.12934253e-02, 3.40013448e-02,\n",
       "       8.33556413e-03, 3.30534399e-03, 2.16819303e-03, 4.07440577e-02,\n",
       "       4.25137222e-04, 1.09844352e-02, 2.91768000e-03, 2.76030254e-04,\n",
       "       5.04643588e-03, 3.00074623e-03, 3.41957068e-03, 2.98396413e-02,\n",
       "       1.31590664e-03, 1.25992620e-04, 4.18505125e-05, 9.27434786e-06,\n",
       "       7.08656521e-04, 1.28122674e-04, 2.09815032e-02, 6.69508674e-03,\n",
       "       5.55314705e-02, 6.55050578e-05, 5.61547311e-02, 1.54279607e-03,\n",
       "       1.84850929e-03, 1.97578066e-03, 1.36089280e-04, 2.05553171e-02,\n",
       "       1.23156041e-04, 9.03234206e-02, 5.45303387e-02, 5.33885616e-03,\n",
       "       1.90527441e-01, 2.88082293e-01])"
      ]
     },
     "execution_count": 31,
     "metadata": {},
     "output_type": "execute_result"
    }
   ],
   "source": [
    "#Cook's Distance\n",
    "\n",
    "model_influence = model.get_influence()\n",
    "(c, _) = model_influence.cooks_distance\n",
    "c"
   ]
  },
  {
   "cell_type": "code",
   "execution_count": 32,
   "id": "8f1a75df",
   "metadata": {},
   "outputs": [
    {
     "data": {
      "image/png": "[encoded data removed]",
      "text/plain": [
       "<Figure size 2000x700 with 1 Axes>"
      ]
     },
     "metadata": {},
     "output_type": "display_data"
    }
   ],
   "source": [
    "# Plot the influencers using the stem plot\n",
    "fig=plt.figure(figsize=(20,7))\n",
    "plt.stem(np.arange(len(data1)),np.round(c,5))\n",
    "plt.xlabel('Row Index')\n",
    "plt.ylabel('Cooks Distance')\n",
    "plt.show()"
   ]
  },
  {
   "cell_type": "code",
   "execution_count": 33,
   "id": "f87b7fde",
   "metadata": {},
   "outputs": [
    {
     "data": {
      "text/plain": [
       "(49, 0.28808229275432634)"
      ]
     },
     "execution_count": 33,
     "metadata": {},
     "output_type": "execute_result"
    }
   ],
   "source": [
    "# Index and value of influencer where C>0.5\n",
    "np.argmax(c) , np.max(c)"
   ]
  },
  {
   "cell_type": "code",
   "execution_count": 34,
   "id": "a613fe3f",
   "metadata": {},
   "outputs": [
    {
     "data": {
      "image/png": "[encoded data removed]",
      "text/plain": [
       "<Figure size 640x480 with 1 Axes>"
      ]
     },
     "metadata": {},
     "output_type": "display_data"
    }
   ],
   "source": [
    "# 2. Leverage Value using High Influence Points : Points beyond Leverage_cutoff value are influencers\n",
    "influence_plot(model)\n",
    "plt.show()"
   ]
  },
  {
   "cell_type": "code",
   "execution_count": 35,
   "id": "e8788395",
   "metadata": {},
   "outputs": [
    {
     "data": {
      "text/plain": [
       "0.36"
      ]
     },
     "execution_count": 35,
     "metadata": {},
     "output_type": "execute_result"
    }
   ],
   "source": [
    "# Leverage Cuttoff Value = 3*(k+1)/n ; k = no.of features/columns & n = no. of datapoints\n",
    "k=data1.shape[1]\n",
    "n=data1.shape[0]\n",
    "leverage_cutoff = (3*(k+1))/n\n",
    "leverage_cutoff"
   ]
  },
  {
   "cell_type": "code",
   "execution_count": 36,
   "id": "0ee313fb",
   "metadata": {},
   "outputs": [
    {
     "data": {
      "text/html": [
       "<div>\n",
       "<style scoped>\n",
       "    .dataframe tbody tr th:only-of-type {\n",
       "        vertical-align: middle;\n",
       "    }\n",
       "\n",
       "    .dataframe tbody tr th {\n",
       "        vertical-align: top;\n",
       "    }\n",
       "\n",
       "    .dataframe thead th {\n",
       "        text-align: right;\n",
       "    }\n",
       "</style>\n",
       "<table border=\"1\" class=\"dataframe\">\n",
       "  <thead>\n",
       "    <tr style=\"text-align: right;\">\n",
       "      <th></th>\n",
       "      <th>RDS</th>\n",
       "      <th>ADS</th>\n",
       "      <th>MKTS</th>\n",
       "      <th>State</th>\n",
       "      <th>Profit</th>\n",
       "    </tr>\n",
       "  </thead>\n",
       "  <tbody>\n",
       "    <tr>\n",
       "      <th>49</th>\n",
       "      <td>0.0</td>\n",
       "      <td>116983.8</td>\n",
       "      <td>45173.06</td>\n",
       "      <td>California</td>\n",
       "      <td>14681.4</td>\n",
       "    </tr>\n",
       "  </tbody>\n",
       "</table>\n",
       "</div>"
      ],
      "text/plain": [
       "    RDS       ADS      MKTS       State   Profit\n",
       "49  0.0  116983.8  45173.06  California  14681.4"
      ]
     },
     "execution_count": 36,
     "metadata": {},
     "output_type": "execute_result"
    }
   ],
   "source": [
    "data1[data1.index.isin([49])]"
   ]
  },
  {
   "cell_type": "markdown",
   "id": "a9dd96a6",
   "metadata": {},
   "source": [
    "## Improving the model"
   ]
  },
  {
   "cell_type": "code",
   "execution_count": 37,
   "id": "291c7982",
   "metadata": {},
   "outputs": [
    {
     "data": {
      "text/html": [
       "<div>\n",
       "<style scoped>\n",
       "    .dataframe tbody tr th:only-of-type {\n",
       "        vertical-align: middle;\n",
       "    }\n",
       "\n",
       "    .dataframe tbody tr th {\n",
       "        vertical-align: top;\n",
       "    }\n",
       "\n",
       "    .dataframe thead th {\n",
       "        text-align: right;\n",
       "    }\n",
       "</style>\n",
       "<table border=\"1\" class=\"dataframe\">\n",
       "  <thead>\n",
       "    <tr style=\"text-align: right;\">\n",
       "      <th></th>\n",
       "      <th>RDS</th>\n",
       "      <th>ADS</th>\n",
       "      <th>MKTS</th>\n",
       "      <th>State</th>\n",
       "      <th>Profit</th>\n",
       "    </tr>\n",
       "  </thead>\n",
       "  <tbody>\n",
       "    <tr>\n",
       "      <th>0</th>\n",
       "      <td>165349.20</td>\n",
       "      <td>136897.80</td>\n",
       "      <td>471784.10</td>\n",
       "      <td>New York</td>\n",
       "      <td>192261.83</td>\n",
       "    </tr>\n",
       "    <tr>\n",
       "      <th>1</th>\n",
       "      <td>162597.70</td>\n",
       "      <td>151377.59</td>\n",
       "      <td>443898.53</td>\n",
       "      <td>California</td>\n",
       "      <td>191792.06</td>\n",
       "    </tr>\n",
       "    <tr>\n",
       "      <th>2</th>\n",
       "      <td>153441.51</td>\n",
       "      <td>101145.55</td>\n",
       "      <td>407934.54</td>\n",
       "      <td>Florida</td>\n",
       "      <td>191050.39</td>\n",
       "    </tr>\n",
       "    <tr>\n",
       "      <th>3</th>\n",
       "      <td>144372.41</td>\n",
       "      <td>118671.85</td>\n",
       "      <td>383199.62</td>\n",
       "      <td>New York</td>\n",
       "      <td>182901.99</td>\n",
       "    </tr>\n",
       "    <tr>\n",
       "      <th>4</th>\n",
       "      <td>142107.34</td>\n",
       "      <td>91391.77</td>\n",
       "      <td>366168.42</td>\n",
       "      <td>Florida</td>\n",
       "      <td>166187.94</td>\n",
       "    </tr>\n",
       "    <tr>\n",
       "      <th>5</th>\n",
       "      <td>131876.90</td>\n",
       "      <td>99814.71</td>\n",
       "      <td>362861.36</td>\n",
       "      <td>New York</td>\n",
       "      <td>156991.12</td>\n",
       "    </tr>\n",
       "    <tr>\n",
       "      <th>6</th>\n",
       "      <td>134615.46</td>\n",
       "      <td>147198.87</td>\n",
       "      <td>127716.82</td>\n",
       "      <td>California</td>\n",
       "      <td>156122.51</td>\n",
       "    </tr>\n",
       "    <tr>\n",
       "      <th>7</th>\n",
       "      <td>130298.13</td>\n",
       "      <td>145530.06</td>\n",
       "      <td>323876.68</td>\n",
       "      <td>Florida</td>\n",
       "      <td>155752.60</td>\n",
       "    </tr>\n",
       "    <tr>\n",
       "      <th>8</th>\n",
       "      <td>120542.52</td>\n",
       "      <td>148718.95</td>\n",
       "      <td>311613.29</td>\n",
       "      <td>New York</td>\n",
       "      <td>152211.77</td>\n",
       "    </tr>\n",
       "    <tr>\n",
       "      <th>9</th>\n",
       "      <td>123334.88</td>\n",
       "      <td>108679.17</td>\n",
       "      <td>304981.62</td>\n",
       "      <td>California</td>\n",
       "      <td>149759.96</td>\n",
       "    </tr>\n",
       "    <tr>\n",
       "      <th>10</th>\n",
       "      <td>101913.08</td>\n",
       "      <td>110594.11</td>\n",
       "      <td>229160.95</td>\n",
       "      <td>Florida</td>\n",
       "      <td>146121.95</td>\n",
       "    </tr>\n",
       "    <tr>\n",
       "      <th>11</th>\n",
       "      <td>100671.96</td>\n",
       "      <td>91790.61</td>\n",
       "      <td>249744.55</td>\n",
       "      <td>California</td>\n",
       "      <td>144259.40</td>\n",
       "    </tr>\n",
       "    <tr>\n",
       "      <th>12</th>\n",
       "      <td>93863.75</td>\n",
       "      <td>127320.38</td>\n",
       "      <td>249839.44</td>\n",
       "      <td>Florida</td>\n",
       "      <td>141585.52</td>\n",
       "    </tr>\n",
       "    <tr>\n",
       "      <th>13</th>\n",
       "      <td>91992.39</td>\n",
       "      <td>135495.07</td>\n",
       "      <td>252664.93</td>\n",
       "      <td>California</td>\n",
       "      <td>134307.35</td>\n",
       "    </tr>\n",
       "    <tr>\n",
       "      <th>14</th>\n",
       "      <td>119943.24</td>\n",
       "      <td>156547.42</td>\n",
       "      <td>256512.92</td>\n",
       "      <td>Florida</td>\n",
       "      <td>132602.65</td>\n",
       "    </tr>\n",
       "    <tr>\n",
       "      <th>15</th>\n",
       "      <td>114523.61</td>\n",
       "      <td>122616.84</td>\n",
       "      <td>261776.23</td>\n",
       "      <td>New York</td>\n",
       "      <td>129917.04</td>\n",
       "    </tr>\n",
       "    <tr>\n",
       "      <th>16</th>\n",
       "      <td>78013.11</td>\n",
       "      <td>121597.55</td>\n",
       "      <td>264346.06</td>\n",
       "      <td>California</td>\n",
       "      <td>126992.93</td>\n",
       "    </tr>\n",
       "    <tr>\n",
       "      <th>17</th>\n",
       "      <td>94657.16</td>\n",
       "      <td>145077.58</td>\n",
       "      <td>282574.31</td>\n",
       "      <td>New York</td>\n",
       "      <td>125370.37</td>\n",
       "    </tr>\n",
       "    <tr>\n",
       "      <th>18</th>\n",
       "      <td>91749.16</td>\n",
       "      <td>114175.79</td>\n",
       "      <td>294919.57</td>\n",
       "      <td>Florida</td>\n",
       "      <td>124266.90</td>\n",
       "    </tr>\n",
       "    <tr>\n",
       "      <th>19</th>\n",
       "      <td>86419.70</td>\n",
       "      <td>153514.11</td>\n",
       "      <td>0.00</td>\n",
       "      <td>New York</td>\n",
       "      <td>122776.86</td>\n",
       "    </tr>\n",
       "    <tr>\n",
       "      <th>20</th>\n",
       "      <td>76253.86</td>\n",
       "      <td>113867.30</td>\n",
       "      <td>298664.47</td>\n",
       "      <td>California</td>\n",
       "      <td>118474.03</td>\n",
       "    </tr>\n",
       "    <tr>\n",
       "      <th>21</th>\n",
       "      <td>78389.47</td>\n",
       "      <td>153773.43</td>\n",
       "      <td>299737.29</td>\n",
       "      <td>New York</td>\n",
       "      <td>111313.02</td>\n",
       "    </tr>\n",
       "    <tr>\n",
       "      <th>22</th>\n",
       "      <td>73994.56</td>\n",
       "      <td>122782.75</td>\n",
       "      <td>303319.26</td>\n",
       "      <td>Florida</td>\n",
       "      <td>110352.25</td>\n",
       "    </tr>\n",
       "    <tr>\n",
       "      <th>23</th>\n",
       "      <td>67532.53</td>\n",
       "      <td>105751.03</td>\n",
       "      <td>304768.73</td>\n",
       "      <td>Florida</td>\n",
       "      <td>108733.99</td>\n",
       "    </tr>\n",
       "    <tr>\n",
       "      <th>24</th>\n",
       "      <td>77044.01</td>\n",
       "      <td>99281.34</td>\n",
       "      <td>140574.81</td>\n",
       "      <td>New York</td>\n",
       "      <td>108552.04</td>\n",
       "    </tr>\n",
       "    <tr>\n",
       "      <th>25</th>\n",
       "      <td>64664.71</td>\n",
       "      <td>139553.16</td>\n",
       "      <td>137962.62</td>\n",
       "      <td>California</td>\n",
       "      <td>107404.34</td>\n",
       "    </tr>\n",
       "    <tr>\n",
       "      <th>26</th>\n",
       "      <td>75328.87</td>\n",
       "      <td>144135.98</td>\n",
       "      <td>134050.07</td>\n",
       "      <td>Florida</td>\n",
       "      <td>105733.54</td>\n",
       "    </tr>\n",
       "    <tr>\n",
       "      <th>27</th>\n",
       "      <td>72107.60</td>\n",
       "      <td>127864.55</td>\n",
       "      <td>353183.81</td>\n",
       "      <td>New York</td>\n",
       "      <td>105008.31</td>\n",
       "    </tr>\n",
       "    <tr>\n",
       "      <th>28</th>\n",
       "      <td>66051.52</td>\n",
       "      <td>182645.56</td>\n",
       "      <td>118148.20</td>\n",
       "      <td>Florida</td>\n",
       "      <td>103282.38</td>\n",
       "    </tr>\n",
       "    <tr>\n",
       "      <th>29</th>\n",
       "      <td>65605.48</td>\n",
       "      <td>153032.06</td>\n",
       "      <td>107138.38</td>\n",
       "      <td>New York</td>\n",
       "      <td>101004.64</td>\n",
       "    </tr>\n",
       "    <tr>\n",
       "      <th>30</th>\n",
       "      <td>61994.48</td>\n",
       "      <td>115641.28</td>\n",
       "      <td>91131.24</td>\n",
       "      <td>Florida</td>\n",
       "      <td>99937.59</td>\n",
       "    </tr>\n",
       "    <tr>\n",
       "      <th>31</th>\n",
       "      <td>61136.38</td>\n",
       "      <td>152701.92</td>\n",
       "      <td>88218.23</td>\n",
       "      <td>New York</td>\n",
       "      <td>97483.56</td>\n",
       "    </tr>\n",
       "    <tr>\n",
       "      <th>32</th>\n",
       "      <td>63408.86</td>\n",
       "      <td>129219.61</td>\n",
       "      <td>46085.25</td>\n",
       "      <td>California</td>\n",
       "      <td>97427.84</td>\n",
       "    </tr>\n",
       "    <tr>\n",
       "      <th>33</th>\n",
       "      <td>55493.95</td>\n",
       "      <td>103057.49</td>\n",
       "      <td>214634.81</td>\n",
       "      <td>Florida</td>\n",
       "      <td>96778.92</td>\n",
       "    </tr>\n",
       "    <tr>\n",
       "      <th>34</th>\n",
       "      <td>46426.07</td>\n",
       "      <td>157693.92</td>\n",
       "      <td>210797.67</td>\n",
       "      <td>California</td>\n",
       "      <td>96712.80</td>\n",
       "    </tr>\n",
       "    <tr>\n",
       "      <th>35</th>\n",
       "      <td>46014.02</td>\n",
       "      <td>85047.44</td>\n",
       "      <td>205517.64</td>\n",
       "      <td>New York</td>\n",
       "      <td>96479.51</td>\n",
       "    </tr>\n",
       "    <tr>\n",
       "      <th>36</th>\n",
       "      <td>28663.76</td>\n",
       "      <td>127056.21</td>\n",
       "      <td>201126.82</td>\n",
       "      <td>Florida</td>\n",
       "      <td>90708.19</td>\n",
       "    </tr>\n",
       "    <tr>\n",
       "      <th>37</th>\n",
       "      <td>44069.95</td>\n",
       "      <td>51283.14</td>\n",
       "      <td>197029.42</td>\n",
       "      <td>California</td>\n",
       "      <td>89949.14</td>\n",
       "    </tr>\n",
       "    <tr>\n",
       "      <th>38</th>\n",
       "      <td>20229.59</td>\n",
       "      <td>65947.93</td>\n",
       "      <td>185265.10</td>\n",
       "      <td>New York</td>\n",
       "      <td>81229.06</td>\n",
       "    </tr>\n",
       "    <tr>\n",
       "      <th>39</th>\n",
       "      <td>38558.51</td>\n",
       "      <td>82982.09</td>\n",
       "      <td>174999.30</td>\n",
       "      <td>California</td>\n",
       "      <td>81005.76</td>\n",
       "    </tr>\n",
       "    <tr>\n",
       "      <th>40</th>\n",
       "      <td>28754.33</td>\n",
       "      <td>118546.05</td>\n",
       "      <td>172795.67</td>\n",
       "      <td>California</td>\n",
       "      <td>78239.91</td>\n",
       "    </tr>\n",
       "    <tr>\n",
       "      <th>41</th>\n",
       "      <td>27892.92</td>\n",
       "      <td>84710.77</td>\n",
       "      <td>164470.71</td>\n",
       "      <td>Florida</td>\n",
       "      <td>77798.83</td>\n",
       "    </tr>\n",
       "    <tr>\n",
       "      <th>42</th>\n",
       "      <td>23640.93</td>\n",
       "      <td>96189.63</td>\n",
       "      <td>148001.11</td>\n",
       "      <td>California</td>\n",
       "      <td>71498.49</td>\n",
       "    </tr>\n",
       "    <tr>\n",
       "      <th>43</th>\n",
       "      <td>15505.73</td>\n",
       "      <td>127382.30</td>\n",
       "      <td>35534.17</td>\n",
       "      <td>New York</td>\n",
       "      <td>69758.98</td>\n",
       "    </tr>\n",
       "    <tr>\n",
       "      <th>44</th>\n",
       "      <td>22177.74</td>\n",
       "      <td>154806.14</td>\n",
       "      <td>28334.72</td>\n",
       "      <td>California</td>\n",
       "      <td>65200.33</td>\n",
       "    </tr>\n",
       "    <tr>\n",
       "      <th>45</th>\n",
       "      <td>1000.23</td>\n",
       "      <td>124153.04</td>\n",
       "      <td>1903.93</td>\n",
       "      <td>New York</td>\n",
       "      <td>64926.08</td>\n",
       "    </tr>\n",
       "    <tr>\n",
       "      <th>46</th>\n",
       "      <td>1315.46</td>\n",
       "      <td>115816.21</td>\n",
       "      <td>297114.46</td>\n",
       "      <td>Florida</td>\n",
       "      <td>49490.75</td>\n",
       "    </tr>\n",
       "    <tr>\n",
       "      <th>47</th>\n",
       "      <td>0.00</td>\n",
       "      <td>135426.92</td>\n",
       "      <td>0.00</td>\n",
       "      <td>California</td>\n",
       "      <td>42559.73</td>\n",
       "    </tr>\n",
       "    <tr>\n",
       "      <th>48</th>\n",
       "      <td>542.05</td>\n",
       "      <td>51743.15</td>\n",
       "      <td>0.00</td>\n",
       "      <td>New York</td>\n",
       "      <td>35673.41</td>\n",
       "    </tr>\n",
       "  </tbody>\n",
       "</table>\n",
       "</div>"
      ],
      "text/plain": [
       "          RDS        ADS       MKTS       State     Profit\n",
       "0   165349.20  136897.80  471784.10    New York  192261.83\n",
       "1   162597.70  151377.59  443898.53  California  191792.06\n",
       "2   153441.51  101145.55  407934.54     Florida  191050.39\n",
       "3   144372.41  118671.85  383199.62    New York  182901.99\n",
       "4   142107.34   91391.77  366168.42     Florida  166187.94\n",
       "5   131876.90   99814.71  362861.36    New York  156991.12\n",
       "6   134615.46  147198.87  127716.82  California  156122.51\n",
       "7   130298.13  145530.06  323876.68     Florida  155752.60\n",
       "8   120542.52  148718.95  311613.29    New York  152211.77\n",
       "9   123334.88  108679.17  304981.62  California  149759.96\n",
       "10  101913.08  110594.11  229160.95     Florida  146121.95\n",
       "11  100671.96   91790.61  249744.55  California  144259.40\n",
       "12   93863.75  127320.38  249839.44     Florida  141585.52\n",
       "13   91992.39  135495.07  252664.93  California  134307.35\n",
       "14  119943.24  156547.42  256512.92     Florida  132602.65\n",
       "15  114523.61  122616.84  261776.23    New York  129917.04\n",
       "16   78013.11  121597.55  264346.06  California  126992.93\n",
       "17   94657.16  145077.58  282574.31    New York  125370.37\n",
       "18   91749.16  114175.79  294919.57     Florida  124266.90\n",
       "19   86419.70  153514.11       0.00    New York  122776.86\n",
       "20   76253.86  113867.30  298664.47  California  118474.03\n",
       "21   78389.47  153773.43  299737.29    New York  111313.02\n",
       "22   73994.56  122782.75  303319.26     Florida  110352.25\n",
       "23   67532.53  105751.03  304768.73     Florida  108733.99\n",
       "24   77044.01   99281.34  140574.81    New York  108552.04\n",
       "25   64664.71  139553.16  137962.62  California  107404.34\n",
       "26   75328.87  144135.98  134050.07     Florida  105733.54\n",
       "27   72107.60  127864.55  353183.81    New York  105008.31\n",
       "28   66051.52  182645.56  118148.20     Florida  103282.38\n",
       "29   65605.48  153032.06  107138.38    New York  101004.64\n",
       "30   61994.48  115641.28   91131.24     Florida   99937.59\n",
       "31   61136.38  152701.92   88218.23    New York   97483.56\n",
       "32   63408.86  129219.61   46085.25  California   97427.84\n",
       "33   55493.95  103057.49  214634.81     Florida   96778.92\n",
       "34   46426.07  157693.92  210797.67  California   96712.80\n",
       "35   46014.02   85047.44  205517.64    New York   96479.51\n",
       "36   28663.76  127056.21  201126.82     Florida   90708.19\n",
       "37   44069.95   51283.14  197029.42  California   89949.14\n",
       "38   20229.59   65947.93  185265.10    New York   81229.06\n",
       "39   38558.51   82982.09  174999.30  California   81005.76\n",
       "40   28754.33  118546.05  172795.67  California   78239.91\n",
       "41   27892.92   84710.77  164470.71     Florida   77798.83\n",
       "42   23640.93   96189.63  148001.11  California   71498.49\n",
       "43   15505.73  127382.30   35534.17    New York   69758.98\n",
       "44   22177.74  154806.14   28334.72  California   65200.33\n",
       "45    1000.23  124153.04    1903.93    New York   64926.08\n",
       "46    1315.46  115816.21  297114.46     Florida   49490.75\n",
       "47       0.00  135426.92       0.00  California   42559.73\n",
       "48     542.05   51743.15       0.00    New York   35673.41"
      ]
     },
     "execution_count": 37,
     "metadata": {},
     "output_type": "execute_result"
    }
   ],
   "source": [
    "# Discard the data points which are influencers and reassign the row number (reset_index(drop=True))\n",
    "data2=data1.drop(data1.index[[49]],axis=0).reset_index(drop=True)\n",
    "data2"
   ]
  },
  {
   "cell_type": "code",
   "execution_count": 38,
   "id": "503d2b7e",
   "metadata": {},
   "outputs": [
    {
     "data": {
      "text/html": [
       "<table class=\"simpletable\">\n",
       "<caption>OLS Regression Results</caption>\n",
       "<tr>\n",
       "  <th>Dep. Variable:</th>         <td>Profit</td>      <th>  R-squared:         </th> <td>   0.961</td>\n",
       "</tr>\n",
       "<tr>\n",
       "  <th>Model:</th>                   <td>OLS</td>       <th>  Adj. R-squared:    </th> <td>   0.959</td>\n",
       "</tr>\n",
       "<tr>\n",
       "  <th>Method:</th>             <td>Least Squares</td>  <th>  F-statistic:       </th> <td>   372.8</td>\n",
       "</tr>\n",
       "<tr>\n",
       "  <th>Date:</th>             <td>Wed, 08 Nov 2023</td> <th>  Prob (F-statistic):</th> <td>8.85e-32</td>\n",
       "</tr>\n",
       "<tr>\n",
       "  <th>Time:</th>                 <td>17:00:09</td>     <th>  Log-Likelihood:    </th> <td> -506.28</td>\n",
       "</tr>\n",
       "<tr>\n",
       "  <th>No. Observations:</th>      <td>    49</td>      <th>  AIC:               </th> <td>   1021.</td>\n",
       "</tr>\n",
       "<tr>\n",
       "  <th>Df Residuals:</th>          <td>    45</td>      <th>  BIC:               </th> <td>   1028.</td>\n",
       "</tr>\n",
       "<tr>\n",
       "  <th>Df Model:</th>              <td>     3</td>      <th>                     </th>     <td> </td>   \n",
       "</tr>\n",
       "<tr>\n",
       "  <th>Covariance Type:</th>      <td>nonrobust</td>    <th>                     </th>     <td> </td>   \n",
       "</tr>\n",
       "</table>\n",
       "<table class=\"simpletable\">\n",
       "<tr>\n",
       "      <td></td>         <th>coef</th>     <th>std err</th>      <th>t</th>      <th>P>|t|</th>  <th>[0.025</th>    <th>0.975]</th>  \n",
       "</tr>\n",
       "<tr>\n",
       "  <th>Intercept</th> <td> 5.238e+04</td> <td> 5542.657</td> <td>    9.451</td> <td> 0.000</td> <td> 4.12e+04</td> <td> 6.35e+04</td>\n",
       "</tr>\n",
       "<tr>\n",
       "  <th>RDS</th>       <td>    0.7830</td> <td>    0.038</td> <td>   20.470</td> <td> 0.000</td> <td>    0.706</td> <td>    0.860</td>\n",
       "</tr>\n",
       "<tr>\n",
       "  <th>ADS</th>       <td>   -0.0222</td> <td>    0.043</td> <td>   -0.518</td> <td> 0.607</td> <td>   -0.109</td> <td>    0.064</td>\n",
       "</tr>\n",
       "<tr>\n",
       "  <th>MKTS</th>      <td>    0.0252</td> <td>    0.014</td> <td>    1.825</td> <td> 0.075</td> <td>   -0.003</td> <td>    0.053</td>\n",
       "</tr>\n",
       "</table>\n",
       "<table class=\"simpletable\">\n",
       "<tr>\n",
       "  <th>Omnibus:</th>       <td> 0.082</td> <th>  Durbin-Watson:     </th> <td>   1.598</td>\n",
       "</tr>\n",
       "<tr>\n",
       "  <th>Prob(Omnibus):</th> <td> 0.960</td> <th>  Jarque-Bera (JB):  </th> <td>   0.232</td>\n",
       "</tr>\n",
       "<tr>\n",
       "  <th>Skew:</th>          <td>-0.082</td> <th>  Prob(JB):          </th> <td>   0.890</td>\n",
       "</tr>\n",
       "<tr>\n",
       "  <th>Kurtosis:</th>      <td> 2.706</td> <th>  Cond. No.          </th> <td>1.41e+06</td>\n",
       "</tr>\n",
       "</table><br/><br/>Notes:<br/>[1] Standard Errors assume that the covariance matrix of the errors is correctly specified.<br/>[2] The condition number is large, 1.41e+06. This might indicate that there are<br/>strong multicollinearity or other numerical problems."
      ],
      "text/plain": [
       "<class 'statsmodels.iolib.summary.Summary'>\n",
       "\"\"\"\n",
       "                            OLS Regression Results                            \n",
       "==============================================================================\n",
       "Dep. Variable:                 Profit   R-squared:                       0.961\n",
       "Model:                            OLS   Adj. R-squared:                  0.959\n",
       "Method:                 Least Squares   F-statistic:                     372.8\n",
       "Date:                Wed, 08 Nov 2023   Prob (F-statistic):           8.85e-32\n",
       "Time:                        17:00:09   Log-Likelihood:                -506.28\n",
       "No. Observations:                  49   AIC:                             1021.\n",
       "Df Residuals:                      45   BIC:                             1028.\n",
       "Df Model:                           3                                         \n",
       "Covariance Type:            nonrobust                                         \n",
       "==============================================================================\n",
       "                 coef    std err          t      P>|t|      [0.025      0.975]\n",
       "------------------------------------------------------------------------------\n",
       "Intercept   5.238e+04   5542.657      9.451      0.000    4.12e+04    6.35e+04\n",
       "RDS            0.7830      0.038     20.470      0.000       0.706       0.860\n",
       "ADS           -0.0222      0.043     -0.518      0.607      -0.109       0.064\n",
       "MKTS           0.0252      0.014      1.825      0.075      -0.003       0.053\n",
       "==============================================================================\n",
       "Omnibus:                        0.082   Durbin-Watson:                   1.598\n",
       "Prob(Omnibus):                  0.960   Jarque-Bera (JB):                0.232\n",
       "Skew:                          -0.082   Prob(JB):                        0.890\n",
       "Kurtosis:                       2.706   Cond. No.                     1.41e+06\n",
       "==============================================================================\n",
       "\n",
       "Notes:\n",
       "[1] Standard Errors assume that the covariance matrix of the errors is correctly specified.\n",
       "[2] The condition number is large, 1.41e+06. This might indicate that there are\n",
       "strong multicollinearity or other numerical problems.\n",
       "\"\"\""
      ]
     },
     "execution_count": 38,
     "metadata": {},
     "output_type": "execute_result"
    }
   ],
   "source": [
    "final_model = smf.ols(\"Profit~RDS+ADS+MKTS\",data = data2).fit()\n",
    "final_model.summary()"
   ]
  },
  {
   "cell_type": "markdown",
   "id": "d8b2edd5",
   "metadata": {},
   "source": [
    "#Model Rsquared & Adj Rsquare values have improved"
   ]
  },
  {
   "cell_type": "markdown",
   "id": "75767432",
   "metadata": {},
   "source": [
    "## Model Predictions\n"
   ]
  },
  {
   "cell_type": "code",
   "execution_count": 41,
   "id": "bd50ab07",
   "metadata": {},
   "outputs": [
    {
     "data": {
      "text/html": [
       "<div>\n",
       "<style scoped>\n",
       "    .dataframe tbody tr th:only-of-type {\n",
       "        vertical-align: middle;\n",
       "    }\n",
       "\n",
       "    .dataframe tbody tr th {\n",
       "        vertical-align: top;\n",
       "    }\n",
       "\n",
       "    .dataframe thead th {\n",
       "        text-align: right;\n",
       "    }\n",
       "</style>\n",
       "<table border=\"1\" class=\"dataframe\">\n",
       "  <thead>\n",
       "    <tr style=\"text-align: right;\">\n",
       "      <th></th>\n",
       "      <th>RDS</th>\n",
       "      <th>ADS</th>\n",
       "      <th>MKTS</th>\n",
       "    </tr>\n",
       "  </thead>\n",
       "  <tbody>\n",
       "    <tr>\n",
       "      <th>0</th>\n",
       "      <td>70000</td>\n",
       "      <td>90000</td>\n",
       "      <td>140000</td>\n",
       "    </tr>\n",
       "  </tbody>\n",
       "</table>\n",
       "</div>"
      ],
      "text/plain": [
       "     RDS    ADS    MKTS\n",
       "0  70000  90000  140000"
      ]
     },
     "execution_count": 41,
     "metadata": {},
     "output_type": "execute_result"
    }
   ],
   "source": [
    "# say New data for prediction is\n",
    "new_data=pd.DataFrame({'RDS':70000,\"ADS\":90000,\"MKTS\":140000},index=[0])\n",
    "new_data"
   ]
  },
  {
   "cell_type": "code",
   "execution_count": 42,
   "id": "d9ba0d1c",
   "metadata": {},
   "outputs": [
    {
     "data": {
      "text/plain": [
       "0    108727.154753\n",
       "dtype: float64"
      ]
     },
     "execution_count": 42,
     "metadata": {},
     "output_type": "execute_result"
    }
   ],
   "source": [
    "# Manual Prediction of Price\n",
    "final_model.predict(new_data)"
   ]
  },
  {
   "cell_type": "code",
   "execution_count": 43,
   "id": "b9901bc3",
   "metadata": {},
   "outputs": [
    {
     "data": {
      "text/plain": [
       "0     190716.676999\n",
       "1     187537.122227\n",
       "2     180575.526396\n",
       "3     172461.144642\n",
       "4     170863.486721\n",
       "5     162582.583177\n",
       "6     157741.338633\n",
       "7     159347.735318\n",
       "8     151328.826941\n",
       "9     154236.846778\n",
       "10    135507.792682\n",
       "11    135472.855621\n",
       "12    129355.599449\n",
       "13    127780.129139\n",
       "14    149295.404796\n",
       "15    145937.941975\n",
       "16    117437.627921\n",
       "17    130408.626295\n",
       "18    129129.234457\n",
       "19    116641.003121\n",
       "20    117097.731866\n",
       "21    117911.019038\n",
       "22    115248.217796\n",
       "23    110603.139045\n",
       "24    114051.073877\n",
       "25    103398.054385\n",
       "26    111547.638935\n",
       "27    114916.165026\n",
       "28    103027.229434\n",
       "29    103057.621761\n",
       "30    100656.410227\n",
       "31     99088.213693\n",
       "32    100325.741335\n",
       "33     98962.303136\n",
       "34     90552.307809\n",
       "35     91709.288672\n",
       "36     77080.554255\n",
       "37     90722.503244\n",
       "38     71433.021956\n",
       "39     85147.375646\n",
       "40     76625.510303\n",
       "41     76492.145175\n",
       "42     72492.394974\n",
       "43     62592.049718\n",
       "44     67025.731107\n",
       "45     50457.297206\n",
       "46     58338.443625\n",
       "47     49375.776655\n",
       "48     51658.096812\n",
       "dtype: float64"
      ]
     },
     "execution_count": 43,
     "metadata": {},
     "output_type": "execute_result"
    }
   ],
   "source": [
    "# Automatic Prediction of Price with 90.02% accurcy\n",
    "pred_y=final_model.predict(data2)\n",
    "pred_y"
   ]
  },
  {
   "cell_type": "code",
   "execution_count": 44,
   "id": "a5c652b0",
   "metadata": {},
   "outputs": [
    {
     "data": {
      "text/html": [
       "<div>\n",
       "<style scoped>\n",
       "    .dataframe tbody tr th:only-of-type {\n",
       "        vertical-align: middle;\n",
       "    }\n",
       "\n",
       "    .dataframe tbody tr th {\n",
       "        vertical-align: top;\n",
       "    }\n",
       "\n",
       "    .dataframe thead th {\n",
       "        text-align: right;\n",
       "    }\n",
       "</style>\n",
       "<table border=\"1\" class=\"dataframe\">\n",
       "  <thead>\n",
       "    <tr style=\"text-align: right;\">\n",
       "      <th></th>\n",
       "      <th>Prep_Models</th>\n",
       "      <th>Rsquared</th>\n",
       "    </tr>\n",
       "  </thead>\n",
       "  <tbody>\n",
       "    <tr>\n",
       "      <th>0</th>\n",
       "      <td>Model</td>\n",
       "      <td>0.950746</td>\n",
       "    </tr>\n",
       "    <tr>\n",
       "      <th>1</th>\n",
       "      <td>Final_Model</td>\n",
       "      <td>0.961316</td>\n",
       "    </tr>\n",
       "  </tbody>\n",
       "</table>\n",
       "</div>"
      ],
      "text/plain": [
       "   Prep_Models  Rsquared\n",
       "0        Model  0.950746\n",
       "1  Final_Model  0.961316"
      ]
     },
     "execution_count": 44,
     "metadata": {},
     "output_type": "execute_result"
    }
   ],
   "source": [
    "d2={'Prep_Models':['Model','Final_Model'],'Rsquared':[model.rsquared,final_model.rsquared]}\n",
    "table=pd.DataFrame(d2)\n",
    "table"
   ]
  },
  {
   "cell_type": "code",
   "execution_count": 46,
   "id": "b64e8a74",
   "metadata": {},
   "outputs": [
    {
     "data": {
      "text/plain": [
       "55213654.279091634"
      ]
     },
     "execution_count": 46,
     "metadata": {},
     "output_type": "execute_result"
    }
   ],
   "source": [
    "# Estimation of mean squared error\n",
    "from sklearn.metrics import mean_squared_error\n",
    "mean_squared_error(data2[\"Profit\"], pred_y)"
   ]
  },
  {
   "cell_type": "code",
   "execution_count": null,
   "id": "b6254a92",
   "metadata": {},
   "outputs": [],
   "source": []
  }
 ],
 "metadata": {
  "kernelspec": {
   "display_name": "Python 3 (ipykernel)",
   "language": "python",
   "name": "python3"
  },
  "language_info": {
   "codemirror_mode": {
    "name": "ipython",
    "version": 3
   },
   "file_extension": ".py",
   "mimetype": "text/x-python",
   "name": "python",
   "nbconvert_exporter": "python",
   "pygments_lexer": "ipython3",
   "version": "3.11.3"
  }
 },
 "nbformat": 4,
 "nbformat_minor": 5
}
